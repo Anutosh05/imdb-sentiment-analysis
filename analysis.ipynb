{
 "cells": [
  {
   "cell_type": "code",
   "execution_count": 3,
   "id": "u402YM3o_MlJ",
   "metadata": {
    "colab": {
     "base_uri": "https://localhost:8080/"
    },
    "id": "u402YM3o_MlJ",
    "outputId": "a0ccfd57-45f4-4c6a-90d8-303afd4d28d3"
   },
   "outputs": [
    {
     "name": "stdout",
     "output_type": "stream",
     "text": [
      "Num GPUs Available:  1\n"
     ]
    }
   ],
   "source": [
    "print(\"Num GPUs Available: \", len(tf.config.list_physical_devices('GPU')))\n"
   ]
  },
  {
   "cell_type": "code",
   "execution_count": 2,
   "id": "3d91c21b-974b-4456-8720-e4672ec1688c",
   "metadata": {
    "id": "3d91c21b-974b-4456-8720-e4672ec1688c",
    "scrolled": true
   },
   "outputs": [],
   "source": [
    "import tensorflow as tf\n",
    "from tensorflow.keras.preprocessing.text import Tokenizer\n",
    "from tensorflow.keras.preprocessing.sequence import pad_sequences\n",
    "from tensorflow.keras.models import Sequential\n",
    "from tensorflow.keras.layers import Embedding, LSTM, Dense, Dropout, Bidirectional, BatchNormalization\n",
    "from sklearn.model_selection import train_test_split\n",
    "import pandas as pd\n",
    "import numpy as np\n",
    "from sklearn.preprocessing import LabelEncoder"
   ]
  },
  {
   "cell_type": "code",
   "execution_count": 5,
   "id": "e5e570b9-cb50-4eb7-b301-3452c2beec77",
   "metadata": {
    "id": "e5e570b9-cb50-4eb7-b301-3452c2beec77"
   },
   "outputs": [],
   "source": [
    "df=pd.read_csv(\"link to the filetered data\")"
   ]
  },
  {
   "cell_type": "code",
   "execution_count": 6,
   "id": "5587ecd0-3a0e-42bf-919f-3b2211fc7312",
   "metadata": {
    "id": "5587ecd0-3a0e-42bf-919f-3b2211fc7312"
   },
   "outputs": [],
   "source": [
    "texts = df['after_filter'].values\n",
    "sentiments = df['sentiment'].values\n",
    "\n"
   ]
  },
  {
   "cell_type": "code",
   "execution_count": 7,
   "id": "cc249dde-f8a9-4dee-8afc-18484bb1739c",
   "metadata": {
    "id": "cc249dde-f8a9-4dee-8afc-18484bb1739c",
    "scrolled": true
   },
   "outputs": [],
   "source": [
    "label_encoder = LabelEncoder()\n",
    "sentiments = label_encoder.fit_transform(sentiments)"
   ]
  },
  {
   "cell_type": "code",
   "execution_count": 8,
   "id": "b29d47c7-3558-4528-a9d2-cd16273583f9",
   "metadata": {
    "id": "b29d47c7-3558-4528-a9d2-cd16273583f9"
   },
   "outputs": [],
   "source": [
    "tokenizer = Tokenizer(num_words=10000)\n",
    "tokenizer.fit_on_texts(texts)\n",
    "sequences = tokenizer.texts_to_sequences(texts)\n"
   ]
  },
  {
   "cell_type": "code",
   "execution_count": 9,
   "id": "4afe51a1-e63a-4e97-8de4-96fb16547da5",
   "metadata": {
    "colab": {
     "base_uri": "https://localhost:8080/"
    },
    "id": "4afe51a1-e63a-4e97-8de4-96fb16547da5",
    "outputId": "f8e0c0c5-a449-41fa-99b7-3dc84d3f7439"
   },
   "outputs": [
    {
     "data": {
      "text/plain": [
       "[1576,\n",
       " 749,\n",
       " 31,\n",
       " 136,\n",
       " 7025,\n",
       " 206,\n",
       " 2500,\n",
       " 55,\n",
       " 388,\n",
       " 363,\n",
       " 32,\n",
       " 2538,\n",
       " 4205,\n",
       " 28,\n",
       " 357,\n",
       " 101,\n",
       " 55,\n",
       " 419,\n",
       " 1334,\n",
       " 6238,\n",
       " 1803,\n",
       " 8676,\n",
       " 2009,\n",
       " 4589,\n",
       " 4420,\n",
       " 1101,\n",
       " 193,\n",
       " 357,\n",
       " 3171,\n",
       " 173,\n",
       " 159,\n",
       " 419,\n",
       " 233,\n",
       " 8804,\n",
       " 158,\n",
       " 2086,\n",
       " 1054,\n",
       " 3752,\n",
       " 1922,\n",
       " 935,\n",
       " 5573,\n",
       " 2711,\n",
       " 9046,\n",
       " 203,\n",
       " 143,\n",
       " 3964,\n",
       " 167,\n",
       " 2275,\n",
       " 169,\n",
       " 6965,\n",
       " 5983,\n",
       " 9434,\n",
       " 6703,\n",
       " 72,\n",
       " 84,\n",
       " 114,\n",
       " 973,\n",
       " 52,\n",
       " 102,\n",
       " 106,\n",
       " 2422,\n",
       " 555,\n",
       " 49,\n",
       " 1176,\n",
       " 3340,\n",
       " 1957,\n",
       " 887,\n",
       " 555,\n",
       " 1091,\n",
       " 555,\n",
       " 614,\n",
       " 7025,\n",
       " 655,\n",
       " 206,\n",
       " 60,\n",
       " 2538,\n",
       " 1247,\n",
       " 1733,\n",
       " 1204,\n",
       " 118,\n",
       " 1057,\n",
       " 957,\n",
       " 50,\n",
       " 7745,\n",
       " 143,\n",
       " 1573,\n",
       " 1682,\n",
       " 357,\n",
       " 357,\n",
       " 5984,\n",
       " 5937,\n",
       " 3998,\n",
       " 2322,\n",
       " 5379,\n",
       " 297,\n",
       " 414,\n",
       " 84,\n",
       " 5890,\n",
       " 444,\n",
       " 463,\n",
       " 5379,\n",
       " 412,\n",
       " 935,\n",
       " 351,\n",
       " 927,\n",
       " 1542,\n",
       " 935,\n",
       " 336,\n",
       " 31,\n",
       " 3003,\n",
       " 2596,\n",
       " 531,\n",
       " 921,\n",
       " 3299]"
      ]
     },
     "execution_count": 9,
     "metadata": {},
     "output_type": "execute_result"
    }
   ],
   "source": [
    "sequences[0]"
   ]
  },
  {
   "cell_type": "code",
   "execution_count": 10,
   "id": "d613f78b-b798-4e40-835a-57742ba98e8a",
   "metadata": {
    "id": "d613f78b-b798-4e40-835a-57742ba98e8a"
   },
   "outputs": [],
   "source": [
    "\n",
    "# Padding\n",
    "max_len = 100  # Define max length for padding\n",
    "padded_sequences = pad_sequences(sequences, maxlen=max_len)\n",
    "\n",
    "# Train-test split\n",
    "X_train, X_test, y_train, y_test = train_test_split(padded_sequences, sentiments, test_size=0.2, random_state=42)\n"
   ]
  },
  {
   "cell_type": "code",
   "execution_count": 11,
   "id": "429d8827-01d0-40cb-acbd-ca993dc71b82",
   "metadata": {
    "id": "429d8827-01d0-40cb-acbd-ca993dc71b82"
   },
   "outputs": [],
   "source": [
    "y_train = np.array(y_train)\n",
    "y_test = np.array(y_test)\n"
   ]
  },
  {
   "cell_type": "code",
   "execution_count": 12,
   "id": "5cdffce5-abf9-41ff-bf94-94b7299fd14a",
   "metadata": {
    "colab": {
     "base_uri": "https://localhost:8080/"
    },
    "id": "5cdffce5-abf9-41ff-bf94-94b7299fd14a",
    "outputId": "5b2408d8-a0c3-4bbd-e9b9-628945a1074c"
   },
   "outputs": [
    {
     "data": {
      "text/plain": [
       "array([0, 0, 1, ..., 0, 1, 1])"
      ]
     },
     "execution_count": 12,
     "metadata": {},
     "output_type": "execute_result"
    }
   ],
   "source": [
    "y_train"
   ]
  },
  {
   "cell_type": "code",
   "execution_count": 13,
   "id": "9fa09b56-909a-4c56-8e50-e1ab34edec7a",
   "metadata": {
    "id": "9fa09b56-909a-4c56-8e50-e1ab34edec7a"
   },
   "outputs": [],
   "source": [
    "input_dim = 10000  # Vocabulary size\n",
    "output_dim = 128  # Embedding dimensions\n",
    "max_len = 100"
   ]
  },
  {
   "cell_type": "code",
   "execution_count": 14,
   "id": "e55d2921-2441-4cfc-81b5-cc8ab87e263e",
   "metadata": {
    "id": "e55d2921-2441-4cfc-81b5-cc8ab87e263e"
   },
   "outputs": [],
   "source": [
    "from tensorflow.keras.optimizers import Adam\n",
    "\n",
    "from keras.callbacks import EarlyStopping\n",
    "from keras.regularizers import l2"
   ]
  },
  {
   "cell_type": "code",
   "execution_count": 15,
   "id": "4772393d-63bb-4674-a553-a21a97265c3d",
   "metadata": {
    "id": "4772393d-63bb-4674-a553-a21a97265c3d"
   },
   "outputs": [],
   "source": [
    "from tensorflow.keras.layers import Embedding, Flatten"
   ]
  },
  {
   "cell_type": "code",
   "execution_count": 20,
   "id": "88df6d46-244e-455c-a64f-4bfb19a1fee3",
   "metadata": {
    "colab": {
     "base_uri": "https://localhost:8080/"
    },
    "id": "88df6d46-244e-455c-a64f-4bfb19a1fee3",
    "outputId": "eb5f433f-3c8d-4322-b2d2-e1778c077749"
   },
   "outputs": [
    {
     "name": "stdout",
     "output_type": "stream",
     "text": [
      "Model: \"sequential_1\"\n",
      "_________________________________________________________________\n",
      " Layer (type)                Output Shape              Param #   \n",
      "=================================================================\n",
      " embedding_1 (Embedding)     (None, 100, 128)          1280000   \n",
      "                                                                 \n",
      " lstm_1 (LSTM)               (None, 64)                49408     \n",
      "                                                                 \n",
      " dropout_3 (Dropout)         (None, 64)                0         \n",
      "                                                                 \n",
      " dense_3 (Dense)             (None, 128)               8320      \n",
      "                                                                 \n",
      " batch_normalization_2 (Bat  (None, 128)               512       \n",
      " chNormalization)                                                \n",
      "                                                                 \n",
      " dropout_4 (Dropout)         (None, 128)               0         \n",
      "                                                                 \n",
      " dense_4 (Dense)             (None, 64)                8256      \n",
      "                                                                 \n",
      " batch_normalization_3 (Bat  (None, 64)                256       \n",
      " chNormalization)                                                \n",
      "                                                                 \n",
      " dropout_5 (Dropout)         (None, 64)                0         \n",
      "                                                                 \n",
      " dense_5 (Dense)             (None, 1)                 65        \n",
      "                                                                 \n",
      "=================================================================\n",
      "Total params: 1346817 (5.14 MB)\n",
      "Trainable params: 1346433 (5.14 MB)\n",
      "Non-trainable params: 384 (1.50 KB)\n",
      "_________________________________________________________________\n"
     ]
    }
   ],
   "source": [
    "model = Sequential()\n",
    "model.add(Embedding(input_dim=input_dim, output_dim=output_dim, input_length=max_len))\n",
    "model.add(LSTM(64))  # LSTM layer\n",
    "model.add(Dropout(0.3))  # Dropout for regularization\n",
    "model.add(Dense(128, activation='relu', kernel_regularizer=l2(0.01)))  # L2 Regularization\n",
    "model.add(BatchNormalization())  # Batch Normalization\n",
    "model.add(Dropout(0.3))  # Reduced Dropout\n",
    "model.add(Dense(64, activation='relu', kernel_regularizer=l2(0.01)))  # L2 Regularization\n",
    "model.add(BatchNormalization())  # Batch Normalization\n",
    "model.add(Dropout(0.3))  # Reduced Dropout\n",
    "model.add(Dense(1, activation='sigmoid'))  # Output layer for binary classification\n",
    "\n",
    "model.compile(optimizer=Adam(learning_rate=0.01), loss='binary_crossentropy', metrics=['accuracy'])\n",
    "\n",
    "# Early stopping callback\n",
    "early_stopping = EarlyStopping(monitor='val_accuracy', patience=3)\n",
    "\n",
    "# Model summary\n",
    "model.summary()"
   ]
  },
  {
   "cell_type": "code",
   "execution_count": 21,
   "id": "d8832a81-ea7e-4e54-9e4e-73051e7aef57",
   "metadata": {
    "colab": {
     "base_uri": "https://localhost:8080/"
    },
    "id": "d8832a81-ea7e-4e54-9e4e-73051e7aef57",
    "outputId": "89476c8e-e2a3-48b1-9bc6-03e51e15121b",
    "scrolled": true
   },
   "outputs": [
    {
     "name": "stdout",
     "output_type": "stream",
     "text": [
      "Epoch 1/50\n",
      "1000/1000 [==============================] - 47s 43ms/step - loss: 0.6949 - accuracy: 0.7254 - val_loss: 0.5048 - val_accuracy: 0.8295\n",
      "Epoch 2/50\n",
      "1000/1000 [==============================] - 15s 15ms/step - loss: 0.4200 - accuracy: 0.8664 - val_loss: 0.4400 - val_accuracy: 0.8506\n",
      "Epoch 3/50\n",
      "1000/1000 [==============================] - 12s 12ms/step - loss: 0.3650 - accuracy: 0.8855 - val_loss: 0.4504 - val_accuracy: 0.8426\n",
      "Epoch 4/50\n",
      "1000/1000 [==============================] - 11s 11ms/step - loss: 0.3333 - accuracy: 0.8992 - val_loss: 0.4648 - val_accuracy: 0.8585\n",
      "Epoch 5/50\n",
      "1000/1000 [==============================] - 9s 9ms/step - loss: 0.3146 - accuracy: 0.9047 - val_loss: 0.4429 - val_accuracy: 0.8494\n",
      "Epoch 6/50\n",
      "1000/1000 [==============================] - 9s 9ms/step - loss: 0.3068 - accuracy: 0.9085 - val_loss: 0.4396 - val_accuracy: 0.8531\n",
      "Epoch 7/50\n",
      "1000/1000 [==============================] - 10s 10ms/step - loss: 0.2996 - accuracy: 0.9108 - val_loss: 0.4243 - val_accuracy: 0.8505\n"
     ]
    }
   ],
   "source": [
    "history = model.fit(X_train, y_train, epochs=50, batch_size=32, validation_split=0.2,callbacks=[early_stopping])\n"
   ]
  },
  {
   "cell_type": "code",
   "execution_count": 22,
   "id": "4f37cf95-aa56-439b-8678-ceaebc767635",
   "metadata": {
    "colab": {
     "base_uri": "https://localhost:8080/"
    },
    "id": "4f37cf95-aa56-439b-8678-ceaebc767635",
    "outputId": "f3db456b-5b2c-4fb1-8263-c656dc11f35b"
   },
   "outputs": [
    {
     "name": "stdout",
     "output_type": "stream",
     "text": [
      "313/313 [==============================] - 3s 7ms/step - loss: 0.4284 - accuracy: 0.8492\n",
      "Test Accuracy: 0.8492000102996826\n"
     ]
    }
   ],
   "source": [
    "loss, accuracy = model.evaluate(X_test, y_test)\n",
    "print(f\"Test Accuracy: {accuracy}\")\n"
   ]
  },
  {
   "cell_type": "code",
   "execution_count": null,
   "id": "64d6e13e-7deb-4ca6-92cf-ffbe706be7a6",
   "metadata": {
    "id": "64d6e13e-7deb-4ca6-92cf-ffbe706be7a6"
   },
   "outputs": [],
   "source": []
  }
 ],
 "metadata": {
  "accelerator": "GPU",
  "colab": {
   "gpuType": "T4",
   "provenance": []
  },
  "kernelspec": {
   "display_name": "Python 3 (ipykernel)",
   "language": "python",
   "name": "python3"
  },
  "language_info": {
   "codemirror_mode": {
    "name": "ipython",
    "version": 3
   },
   "file_extension": ".py",
   "mimetype": "text/x-python",
   "name": "python",
   "nbconvert_exporter": "python",
   "pygments_lexer": "ipython3",
   "version": "3.11.7"
  }
 },
 "nbformat": 4,
 "nbformat_minor": 5
}
